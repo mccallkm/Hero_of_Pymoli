{
 "cells": [
  {
   "cell_type": "markdown",
   "metadata": {},
   "source": [
    "# Heroes Of Pymoli Data Analysis\n",
    "* There were 576 active players, the majority are male (84%).Female players account for (14%).\n",
    "\n",
    "* The demographic age distribution shows the 20-24 age group with (44.8%). Secondary groups fall between 15-19 (18.60%) and 25-29 (13.4%).  \n",
    "\n",
    "* The average purchase price is relatively flat at $4.00 per player with males carrying 2/3 of all purchases."
   ]
  },
  {
   "cell_type": "markdown",
   "metadata": {},
   "source": [
    "### Note\n",
    "* Instructions have been included for each segment. You do not have to follow them exactly, but they are included to help you think through the steps."
   ]
  },
  {
   "cell_type": "code",
   "execution_count": 1,
   "metadata": {},
   "outputs": [
    {
     "data": {
      "text/html": [
       "<div>\n",
       "<style scoped>\n",
       "    .dataframe tbody tr th:only-of-type {\n",
       "        vertical-align: middle;\n",
       "    }\n",
       "\n",
       "    .dataframe tbody tr th {\n",
       "        vertical-align: top;\n",
       "    }\n",
       "\n",
       "    .dataframe thead th {\n",
       "        text-align: right;\n",
       "    }\n",
       "</style>\n",
       "<table border=\"1\" class=\"dataframe\">\n",
       "  <thead>\n",
       "    <tr style=\"text-align: right;\">\n",
       "      <th></th>\n",
       "      <th>Purchase ID</th>\n",
       "      <th>SN</th>\n",
       "      <th>Age</th>\n",
       "      <th>Gender</th>\n",
       "      <th>Item ID</th>\n",
       "      <th>Item Name</th>\n",
       "      <th>Price</th>\n",
       "    </tr>\n",
       "  </thead>\n",
       "  <tbody>\n",
       "    <tr>\n",
       "      <th>0</th>\n",
       "      <td>0</td>\n",
       "      <td>Lisim78</td>\n",
       "      <td>20</td>\n",
       "      <td>Male</td>\n",
       "      <td>108</td>\n",
       "      <td>Extraction, Quickblade Of Trembling Hands</td>\n",
       "      <td>3.53</td>\n",
       "    </tr>\n",
       "    <tr>\n",
       "      <th>1</th>\n",
       "      <td>1</td>\n",
       "      <td>Lisovynya38</td>\n",
       "      <td>40</td>\n",
       "      <td>Male</td>\n",
       "      <td>143</td>\n",
       "      <td>Frenzied Scimitar</td>\n",
       "      <td>1.56</td>\n",
       "    </tr>\n",
       "    <tr>\n",
       "      <th>2</th>\n",
       "      <td>2</td>\n",
       "      <td>Ithergue48</td>\n",
       "      <td>24</td>\n",
       "      <td>Male</td>\n",
       "      <td>92</td>\n",
       "      <td>Final Critic</td>\n",
       "      <td>4.88</td>\n",
       "    </tr>\n",
       "    <tr>\n",
       "      <th>3</th>\n",
       "      <td>3</td>\n",
       "      <td>Chamassasya86</td>\n",
       "      <td>24</td>\n",
       "      <td>Male</td>\n",
       "      <td>100</td>\n",
       "      <td>Blindscythe</td>\n",
       "      <td>3.27</td>\n",
       "    </tr>\n",
       "    <tr>\n",
       "      <th>4</th>\n",
       "      <td>4</td>\n",
       "      <td>Iskosia90</td>\n",
       "      <td>23</td>\n",
       "      <td>Male</td>\n",
       "      <td>131</td>\n",
       "      <td>Fury</td>\n",
       "      <td>1.44</td>\n",
       "    </tr>\n",
       "  </tbody>\n",
       "</table>\n",
       "</div>"
      ],
      "text/plain": [
       "   Purchase ID             SN  Age Gender  Item ID  \\\n",
       "0            0        Lisim78   20   Male      108   \n",
       "1            1    Lisovynya38   40   Male      143   \n",
       "2            2     Ithergue48   24   Male       92   \n",
       "3            3  Chamassasya86   24   Male      100   \n",
       "4            4      Iskosia90   23   Male      131   \n",
       "\n",
       "                                   Item Name  Price  \n",
       "0  Extraction, Quickblade Of Trembling Hands   3.53  \n",
       "1                          Frenzied Scimitar   1.56  \n",
       "2                               Final Critic   4.88  \n",
       "3                                Blindscythe   3.27  \n",
       "4                                       Fury   1.44  "
      ]
     },
     "execution_count": 1,
     "metadata": {},
     "output_type": "execute_result"
    }
   ],
   "source": [
    "# Dependencies and Setup\n",
    "import pandas as pd\n",
    "import numpy as np\n",
    "\n",
    "# Raw data file\n",
    "file_to_load = \"Resources/purchase_data.csv\"\n",
    "\n",
    "# Read purchasing file and store into pandas data frame\n",
    "purchase_data_pd = pd.read_csv(file_to_load)\n",
    "purchase_data_pd.head()"
   ]
  },
  {
   "cell_type": "markdown",
   "metadata": {},
   "source": [
    "## Player Count"
   ]
  },
  {
   "cell_type": "markdown",
   "metadata": {},
   "source": [
    "* Display the total number of players\n"
   ]
  },
  {
   "cell_type": "code",
   "execution_count": 2,
   "metadata": {},
   "outputs": [
    {
     "name": "stdout",
     "output_type": "stream",
     "text": [
      "Total number of players: 576\n"
     ]
    }
   ],
   "source": [
    "count_players =purchase_data_pd[\"SN\"].value_counts()\n",
    "print(\"Total number of players:\", len(count_players))"
   ]
  },
  {
   "cell_type": "markdown",
   "metadata": {},
   "source": [
    "## Purchasing Analysis (Total)"
   ]
  },
  {
   "cell_type": "markdown",
   "metadata": {},
   "source": [
    "* Run basic calculations to obtain number of unique items, average price, etc.\n",
    "\n",
    "\n",
    "* Create a summary data frame to hold the results\n",
    "\n",
    "\n",
    "* Optional: give the displayed data cleaner formatting\n",
    "\n",
    "* Display the summary data frame\n"
   ]
  },
  {
   "cell_type": "code",
   "execution_count": 52,
   "metadata": {
    "scrolled": true
   },
   "outputs": [
    {
     "data": {
      "text/html": [
       "<style  type=\"text/css\" >\n",
       "</style>  \n",
       "<table id=\"T_4e22f178_b7d3_11e8_b512_8c16457edbf6\" > \n",
       "<thead>    <tr> \n",
       "        <th class=\"blank level0\" ></th> \n",
       "        <th class=\"col_heading level0 col0\" >Number of Unique Items</th> \n",
       "        <th class=\"col_heading level0 col1\" >Average Price</th> \n",
       "        <th class=\"col_heading level0 col2\" >Number of Purchases</th> \n",
       "        <th class=\"col_heading level0 col3\" >Total Revenue</th> \n",
       "    </tr></thead> \n",
       "<tbody>    <tr> \n",
       "        <th id=\"T_4e22f178_b7d3_11e8_b512_8c16457edbf6level0_row0\" class=\"row_heading level0 row0\" >0</th> \n",
       "        <td id=\"T_4e22f178_b7d3_11e8_b512_8c16457edbf6row0_col0\" class=\"data row0 col0\" >183</td> \n",
       "        <td id=\"T_4e22f178_b7d3_11e8_b512_8c16457edbf6row0_col1\" class=\"data row0 col1\" >$3.05</td> \n",
       "        <td id=\"T_4e22f178_b7d3_11e8_b512_8c16457edbf6row0_col2\" class=\"data row0 col2\" >780</td> \n",
       "        <td id=\"T_4e22f178_b7d3_11e8_b512_8c16457edbf6row0_col3\" class=\"data row0 col3\" >$2,379.77</td> \n",
       "    </tr></tbody> \n",
       "</table> "
      ],
      "text/plain": [
       "<pandas.io.formats.style.Styler at 0x1d13ba1ad68>"
      ]
     },
     "execution_count": 52,
     "metadata": {},
     "output_type": "execute_result"
    }
   ],
   "source": [
    "#Purchasing Analysis (Total)\n",
    "\n",
    "# Unique Items\n",
    "unique_items =purchase_data_pd[\"Item ID\"].value_counts()\n",
    "#print(len(unique_items))\n",
    "\n",
    "# Number of Purchases\n",
    "purchases = purchase_data_pd[\"Purchase ID\"].count()\n",
    "#print(purchases)\n",
    "\n",
    "# Average Price\n",
    "average_price = purchase_data_pd[\"Price\"].mean()\n",
    "average_price\n",
    "#print(\"Avg_Price\", average_price)\n",
    "\n",
    "# Average Age\n",
    "average_age = purchase_data_pd[\"Age\"].mean()\n",
    "#print(\"Avg_Age\", average_age)\n",
    "\n",
    "# Total Revenue\n",
    "total_revenue = purchase_data_pd[\"Price\"].sum()\n",
    "#print(\"Total_Price\", total_price)\n",
    "\n",
    "\n",
    "summary_table = pd.DataFrame({\"Number of Unique Items\": unique_items.count(),\n",
    "                              \"Average Price\": [average_price],\n",
    "                              \"Number of Purchases\": purchases,\n",
    "                              \"Total Revenue\": [total_revenue]})\n",
    "#Formatting\n",
    "summary_table.style.format({\"Average Price\": \"${:.2f}\", \"Total Revenue\": \"${:,.2f}\"})"
   ]
  },
  {
   "cell_type": "markdown",
   "metadata": {},
   "source": [
    "## Gender Demographics"
   ]
  },
  {
   "cell_type": "markdown",
   "metadata": {},
   "source": [
    "* Percentage and Count of Male Players\n",
    "\n",
    "\n",
    "* Percentage and Count of Female Players\n",
    "\n",
    "\n",
    "* Percentage and Count of Other / Non-Disclosed\n",
    "\n",
    "\n"
   ]
  },
  {
   "cell_type": "code",
   "execution_count": 5,
   "metadata": {},
   "outputs": [
    {
     "data": {
      "text/plain": [
       "array(['Male', 'Other / Non-Disclosed', 'Female'], dtype=object)"
      ]
     },
     "execution_count": 5,
     "metadata": {},
     "output_type": "execute_result"
    }
   ],
   "source": [
    "#look at all values for gender\n",
    "unique = purchase_data_pd[\"Gender\"].unique()\n",
    "unique"
   ]
  },
  {
   "cell_type": "code",
   "execution_count": 51,
   "metadata": {},
   "outputs": [
    {
     "data": {
      "text/html": [
       "<style  type=\"text/css\" >\n",
       "</style>  \n",
       "<table id=\"T_48756368_b7d3_11e8_891b_8c16457edbf6\" > \n",
       "<thead>    <tr> \n",
       "        <th class=\"blank level0\" ></th> \n",
       "        <th class=\"col_heading level0 col0\" >Gender</th> \n",
       "        <th class=\"col_heading level0 col1\" >Percentage of Players</th> \n",
       "        <th class=\"col_heading level0 col2\" >Total Count</th> \n",
       "    </tr></thead> \n",
       "<tbody>    <tr> \n",
       "        <th id=\"T_48756368_b7d3_11e8_891b_8c16457edbf6level0_row0\" class=\"row_heading level0 row0\" >0</th> \n",
       "        <td id=\"T_48756368_b7d3_11e8_891b_8c16457edbf6row0_col0\" class=\"data row0 col0\" >Male</td> \n",
       "        <td id=\"T_48756368_b7d3_11e8_891b_8c16457edbf6row0_col1\" class=\"data row0 col1\" >84.03%</td> \n",
       "        <td id=\"T_48756368_b7d3_11e8_891b_8c16457edbf6row0_col2\" class=\"data row0 col2\" >484</td> \n",
       "    </tr>    <tr> \n",
       "        <th id=\"T_48756368_b7d3_11e8_891b_8c16457edbf6level0_row1\" class=\"row_heading level0 row1\" >1</th> \n",
       "        <td id=\"T_48756368_b7d3_11e8_891b_8c16457edbf6row1_col0\" class=\"data row1 col0\" >Female</td> \n",
       "        <td id=\"T_48756368_b7d3_11e8_891b_8c16457edbf6row1_col1\" class=\"data row1 col1\" >14.06%</td> \n",
       "        <td id=\"T_48756368_b7d3_11e8_891b_8c16457edbf6row1_col2\" class=\"data row1 col2\" >81</td> \n",
       "    </tr>    <tr> \n",
       "        <th id=\"T_48756368_b7d3_11e8_891b_8c16457edbf6level0_row2\" class=\"row_heading level0 row2\" >2</th> \n",
       "        <td id=\"T_48756368_b7d3_11e8_891b_8c16457edbf6row2_col0\" class=\"data row2 col0\" >Other / Non-Disclosed</td> \n",
       "        <td id=\"T_48756368_b7d3_11e8_891b_8c16457edbf6row2_col1\" class=\"data row2 col1\" >1.91%</td> \n",
       "        <td id=\"T_48756368_b7d3_11e8_891b_8c16457edbf6row2_col2\" class=\"data row2 col2\" >11</td> \n",
       "    </tr></tbody> \n",
       "</table> "
      ],
      "text/plain": [
       "<pandas.io.formats.style.Styler at 0x1d137301d30>"
      ]
     },
     "execution_count": 51,
     "metadata": {},
     "output_type": "execute_result"
    }
   ],
   "source": [
    "# Gender Demographics Summary\n",
    "\n",
    "nodups = purchase_data_pd.drop_duplicates(['SN'], keep='first')\n",
    "gender_count = nodups[(\"Gender\")].value_counts()\n",
    "total_gender_count = gender_count.sum()\n",
    "#print(gender_count, total_gender_count)\n",
    "\n",
    "# Based on unique players\n",
    "Male_cnt = nodups.loc[nodups[\"Gender\"] == \"Male\", \"Gender\"].count()\n",
    "Male_pct = (Male_cnt / total_gender_count) * 100\n",
    "#print(\"Percentage and Count of Male Players:\", Male_cnt, \"|\", Male_pct)\n",
    "\n",
    "Female_cnt = nodups.loc[nodups[\"Gender\"] == \"Female\", \"Gender\"].count()\n",
    "Female_pct = (Female_cnt / total_gender_count) * 100\n",
    "#print(\"Percentage and Count of Female Players:\", Female_cnt, \"|\", Female_pct)\n",
    "\n",
    "Other_cnt = nodups.loc[nodups[\"Gender\"] == \"Other / Non-Disclosed\", \"Gender\"].count()\n",
    "Other_pct = (Other_cnt / total_gender_count) * 100\n",
    "#print(\"Percentage and Count of Other / Non-Disclosed:\", Other_cnt, \"|\", Other_pct)\n",
    "\n",
    "# Using the raw sample data set\n",
    "Male_cnt_raw = purchase_data_pd.loc[purchase_data_pd[\"Gender\"] == \"Male\", \"Gender\"].count()\n",
    "Male_pct_raw = (Male_cnt_raw / total_gender_count) * 100\n",
    "#print(\"Percentage and Count of Male Players2:\", Male_cnt_raw, \"|\", Male_pct_raw)\n",
    "\n",
    "Female_cnt_raw = purchase_data_pd.loc[purchase_data_pd[\"Gender\"] == \"Female\", \"Gender\"].count()\n",
    "Female_pct_raw = (Female_cnt_raw / total_gender_count) * 100\n",
    "#print(\"Percentage and Count of Female Players2:\", Female_cnt_raw, \"|\", Female_pct_raw)\n",
    "\n",
    "Other_cnt_raw = purchase_data_pd.loc[purchase_data_pd[\"Gender\"] == \"Other / Non-Disclosed\", \"Gender\"].count()\n",
    "Other_pct_raw = (Other_cnt_raw / total_gender_count) * 100\n",
    "#print(\"Percentage and Count of Other / Non-Disclosed2:\", Other_cnt_raw, \"|\", Other_pct_raw)\n",
    "\n",
    "# Summary of Results in a dataframe\n",
    "#gender_summary = pd.DataFrame({\"Gender\": [\"Male\", \"Female\", \"Other / Non-Disclosed\"],\n",
    "                                #\"Purchase Count\": [Male_cnt, Female_cnt, Other_cnt],\n",
    "                                #\"Percentages\": [Male_pct, Female_pct, Other_pct]})\n",
    "\n",
    "#gender_summary\n",
    "\n",
    "# Final Summary of Results in a dataframe\n",
    "gender_summary2 = pd.DataFrame({\"Gender\": [\"Male\", \"Female\", \"Other / Non-Disclosed\"],\n",
    "                                \"Percentage of Players\": [Male_pct, Female_pct, Other_pct],\n",
    "                                \"Total Count\": [Male_cnt, Female_cnt, Other_cnt]})\n",
    "#Formatting\n",
    "gender_summary2.style.format({\"Percentage of Players\": \"{:.2f}%\"})\n"
   ]
  },
  {
   "cell_type": "markdown",
   "metadata": {},
   "source": [
    "\n",
    "## Purchasing Analysis (Gender)"
   ]
  },
  {
   "cell_type": "markdown",
   "metadata": {},
   "source": [
    "* Run basic calculations to obtain purchase count, avg. purchase price, avg. purchase total per person etc. by gender\n",
    "\n",
    "\n",
    "\n",
    "\n",
    "* Create a summary data frame to hold the results\n",
    "\n",
    "\n",
    "* Optional: give the displayed data cleaner formatting\n",
    "\n",
    "\n",
    "* Display the summary data frame"
   ]
  },
  {
   "cell_type": "code",
   "execution_count": 7,
   "metadata": {},
   "outputs": [
    {
     "data": {
      "text/plain": [
       "Index(['Purchase ID', 'SN', 'Age', 'Gender', 'Item ID', 'Item Name', 'Price'], dtype='object')"
      ]
     },
     "execution_count": 7,
     "metadata": {},
     "output_type": "execute_result"
    }
   ],
   "source": [
    "# review the column headers \n",
    "columns = purchase_data_pd.columns\n",
    "columns"
   ]
  },
  {
   "cell_type": "code",
   "execution_count": 50,
   "metadata": {},
   "outputs": [
    {
     "data": {
      "text/html": [
       "<style  type=\"text/css\" >\n",
       "</style>  \n",
       "<table id=\"T_43f29d66_b7d3_11e8_92cb_8c16457edbf6\" > \n",
       "<thead>    <tr> \n",
       "        <th class=\"blank level0\" ></th> \n",
       "        <th class=\"col_heading level0 col0\" >Gender</th> \n",
       "        <th class=\"col_heading level0 col1\" >Purchase Count</th> \n",
       "        <th class=\"col_heading level0 col2\" >Average Purchase Price</th> \n",
       "        <th class=\"col_heading level0 col3\" >Total Purchase Value</th> \n",
       "        <th class=\"col_heading level0 col4\" >Average Purchase Total Per Person</th> \n",
       "    </tr></thead> \n",
       "<tbody>    <tr> \n",
       "        <th id=\"T_43f29d66_b7d3_11e8_92cb_8c16457edbf6level0_row0\" class=\"row_heading level0 row0\" >0</th> \n",
       "        <td id=\"T_43f29d66_b7d3_11e8_92cb_8c16457edbf6row0_col0\" class=\"data row0 col0\" >Male</td> \n",
       "        <td id=\"T_43f29d66_b7d3_11e8_92cb_8c16457edbf6row0_col1\" class=\"data row0 col1\" >652</td> \n",
       "        <td id=\"T_43f29d66_b7d3_11e8_92cb_8c16457edbf6row0_col2\" class=\"data row0 col2\" >$3.02</td> \n",
       "        <td id=\"T_43f29d66_b7d3_11e8_92cb_8c16457edbf6row0_col3\" class=\"data row0 col3\" >$1,967.64</td> \n",
       "        <td id=\"T_43f29d66_b7d3_11e8_92cb_8c16457edbf6row0_col4\" class=\"data row0 col4\" >$3.02</td> \n",
       "    </tr>    <tr> \n",
       "        <th id=\"T_43f29d66_b7d3_11e8_92cb_8c16457edbf6level0_row1\" class=\"row_heading level0 row1\" >1</th> \n",
       "        <td id=\"T_43f29d66_b7d3_11e8_92cb_8c16457edbf6row1_col0\" class=\"data row1 col0\" >Female</td> \n",
       "        <td id=\"T_43f29d66_b7d3_11e8_92cb_8c16457edbf6row1_col1\" class=\"data row1 col1\" >113</td> \n",
       "        <td id=\"T_43f29d66_b7d3_11e8_92cb_8c16457edbf6row1_col2\" class=\"data row1 col2\" >$3.20</td> \n",
       "        <td id=\"T_43f29d66_b7d3_11e8_92cb_8c16457edbf6row1_col3\" class=\"data row1 col3\" >$361.94</td> \n",
       "        <td id=\"T_43f29d66_b7d3_11e8_92cb_8c16457edbf6row1_col4\" class=\"data row1 col4\" >$3.20</td> \n",
       "    </tr>    <tr> \n",
       "        <th id=\"T_43f29d66_b7d3_11e8_92cb_8c16457edbf6level0_row2\" class=\"row_heading level0 row2\" >2</th> \n",
       "        <td id=\"T_43f29d66_b7d3_11e8_92cb_8c16457edbf6row2_col0\" class=\"data row2 col0\" >Other / Non-Disclosed</td> \n",
       "        <td id=\"T_43f29d66_b7d3_11e8_92cb_8c16457edbf6row2_col1\" class=\"data row2 col1\" >15</td> \n",
       "        <td id=\"T_43f29d66_b7d3_11e8_92cb_8c16457edbf6row2_col2\" class=\"data row2 col2\" >$3.35</td> \n",
       "        <td id=\"T_43f29d66_b7d3_11e8_92cb_8c16457edbf6row2_col3\" class=\"data row2 col3\" >$50.19</td> \n",
       "        <td id=\"T_43f29d66_b7d3_11e8_92cb_8c16457edbf6row2_col4\" class=\"data row2 col4\" >$3.35</td> \n",
       "    </tr></tbody> \n",
       "</table> "
      ],
      "text/plain": [
       "<pandas.io.formats.style.Styler at 0x1d13bcd2780>"
      ]
     },
     "execution_count": 50,
     "metadata": {},
     "output_type": "execute_result"
    }
   ],
   "source": [
    "#Purchasing Analysis (Gender)\n",
    "\n",
    "nodups = purchase_data_pd.drop_duplicates(['SN'], keep='first')\n",
    "\n",
    "# Male \n",
    "male_pcnt = purchase_data_pd.loc[purchase_data_pd[\"Gender\"] == \"Male\", \"Purchase ID\"].count()\n",
    "male_app = purchase_data_pd.loc[purchase_data_pd[\"Gender\"] == \"Male\", \"Price\"].mean()\n",
    "male_pur = purchase_data_pd.loc[purchase_data_pd[\"Gender\"] == \"Male\", \"Price\"].sum()\n",
    "male_pp = male_pur / male_pcnt\n",
    "#print( male_pcnt, \"|\", male_app)\n",
    "\n",
    "# Females\n",
    "female_pcnt = purchase_data_pd.loc[purchase_data_pd[\"Gender\"] == \"Female\", \"Purchase ID\"].count()\n",
    "female_app = purchase_data_pd.loc[purchase_data_pd[\"Gender\"] == \"Female\", \"Price\"].mean()\n",
    "female_pur = purchase_data_pd.loc[purchase_data_pd[\"Gender\"] == \"Female\", \"Price\"].sum()\n",
    "female_pp = female_pur / female_pcnt\n",
    "#print( female_pcnt, \"|\", female_app)\n",
    "\n",
    "# Other \n",
    "other_pcnt = purchase_data_pd.loc[purchase_data_pd[\"Gender\"] == \"Other / Non-Disclosed\", \"Purchase ID\"].count()\n",
    "other_app = purchase_data_pd.loc[purchase_data_pd[\"Gender\"] == \"Other / Non-Disclosed\", \"Price\"].mean()\n",
    "other_pur = purchase_data_pd.loc[purchase_data_pd[\"Gender\"] == \"Other / Non-Disclosed\", \"Price\"].sum()\n",
    "other_pp = other_pur / other_pcnt\n",
    "#print( other_pcnt, \"|\", other_app)\n",
    "\n",
    "# All purchases\n",
    "pur_total_pp = (male_pur + female_pur + other_pur)\n",
    "#print(pur_total_pp)\n",
    "\n",
    "# Summary Table for Purchases by Gender\n",
    "Purchase_Summary = pd.DataFrame({\"Gender\": [\"Male\", \"Female\", \"Other / Non-Disclosed\"],\n",
    "                                \"Purchase Count\": [male_pcnt, female_pcnt,other_pcnt],\n",
    "                                \"Average Purchase Price\": [male_app,female_app,other_app],\n",
    "                                \"Total Purchase Value\": [male_pur,female_pur,other_pur],\n",
    "                                \"Average Purchase Total Per Person\": [male_pp, female_pp, other_pp]})\n",
    "\n",
    "#Purchase_Summary = Purchase_Summary[[\"Gender\",\"Purchase Count\",\"Average Purchase Price\",\"Total Purchase Value\",\n",
    "                                     #\"Average Purchase Total Per Person\"]]\n",
    "\n",
    "#Formatting\n",
    "Purchase_Summary.style.format({\"Average Purchase Price\": \"${:.2f}\", \"Total Purchase Value\": \"${:,.2f}\",\n",
    "                               \"Average Purchase Total Per Person\": \"${:.2f}\"})\n"
   ]
  },
  {
   "cell_type": "markdown",
   "metadata": {},
   "source": [
    "## Age Demographics"
   ]
  },
  {
   "cell_type": "markdown",
   "metadata": {},
   "source": [
    "* Establish bins for ages\n",
    "\n",
    "\n",
    "* Categorize the existing players using the age bins. Hint: use pd.cut()\n",
    "\n",
    "\n",
    "* Calculate the numbers and percentages by age group\n",
    "\n",
    "\n",
    "* Create a summary data frame to hold the results\n",
    "\n",
    "\n",
    "* Optional: round the percentage column to two decimal points\n",
    "\n",
    "\n",
    "* Display Age Demographics Table\n"
   ]
  },
  {
   "cell_type": "code",
   "execution_count": 38,
   "metadata": {},
   "outputs": [
    {
     "name": "stderr",
     "output_type": "stream",
     "text": [
      "C:\\Users\\15073\\Anaconda3\\envs\\PythonData\\lib\\site-packages\\ipykernel\\__main__.py:9: SettingWithCopyWarning: \n",
      "A value is trying to be set on a copy of a slice from a DataFrame.\n",
      "Try using .loc[row_indexer,col_indexer] = value instead\n",
      "\n",
      "See the caveats in the documentation: http://pandas.pydata.org/pandas-docs/stable/indexing.html#indexing-view-versus-copy\n"
     ]
    },
    {
     "data": {
      "text/html": [
       "<style  type=\"text/css\" >\n",
       "</style>  \n",
       "<table id=\"T_3ebbe358_b7d2_11e8_a531_8c16457edbf6\" > \n",
       "<thead>    <tr> \n",
       "        <th class=\"blank level0\" ></th> \n",
       "        <th class=\"col_heading level0 col0\" >Age Group</th> \n",
       "        <th class=\"col_heading level0 col1\" >Percentage of Players</th> \n",
       "        <th class=\"col_heading level0 col2\" >Total Count</th> \n",
       "    </tr></thead> \n",
       "<tbody>    <tr> \n",
       "        <th id=\"T_3ebbe358_b7d2_11e8_a531_8c16457edbf6level0_row0\" class=\"row_heading level0 row0\" >0</th> \n",
       "        <td id=\"T_3ebbe358_b7d2_11e8_a531_8c16457edbf6row0_col0\" class=\"data row0 col0\" ><10</td> \n",
       "        <td id=\"T_3ebbe358_b7d2_11e8_a531_8c16457edbf6row0_col1\" class=\"data row0 col1\" >2.95%</td> \n",
       "        <td id=\"T_3ebbe358_b7d2_11e8_a531_8c16457edbf6row0_col2\" class=\"data row0 col2\" >17</td> \n",
       "    </tr>    <tr> \n",
       "        <th id=\"T_3ebbe358_b7d2_11e8_a531_8c16457edbf6level0_row1\" class=\"row_heading level0 row1\" >1</th> \n",
       "        <td id=\"T_3ebbe358_b7d2_11e8_a531_8c16457edbf6row1_col0\" class=\"data row1 col0\" >10-14</td> \n",
       "        <td id=\"T_3ebbe358_b7d2_11e8_a531_8c16457edbf6row1_col1\" class=\"data row1 col1\" >3.82%</td> \n",
       "        <td id=\"T_3ebbe358_b7d2_11e8_a531_8c16457edbf6row1_col2\" class=\"data row1 col2\" >22</td> \n",
       "    </tr>    <tr> \n",
       "        <th id=\"T_3ebbe358_b7d2_11e8_a531_8c16457edbf6level0_row2\" class=\"row_heading level0 row2\" >2</th> \n",
       "        <td id=\"T_3ebbe358_b7d2_11e8_a531_8c16457edbf6row2_col0\" class=\"data row2 col0\" >15-19</td> \n",
       "        <td id=\"T_3ebbe358_b7d2_11e8_a531_8c16457edbf6row2_col1\" class=\"data row2 col1\" >18.58%</td> \n",
       "        <td id=\"T_3ebbe358_b7d2_11e8_a531_8c16457edbf6row2_col2\" class=\"data row2 col2\" >107</td> \n",
       "    </tr>    <tr> \n",
       "        <th id=\"T_3ebbe358_b7d2_11e8_a531_8c16457edbf6level0_row3\" class=\"row_heading level0 row3\" >3</th> \n",
       "        <td id=\"T_3ebbe358_b7d2_11e8_a531_8c16457edbf6row3_col0\" class=\"data row3 col0\" >20-24</td> \n",
       "        <td id=\"T_3ebbe358_b7d2_11e8_a531_8c16457edbf6row3_col1\" class=\"data row3 col1\" >44.79%</td> \n",
       "        <td id=\"T_3ebbe358_b7d2_11e8_a531_8c16457edbf6row3_col2\" class=\"data row3 col2\" >258</td> \n",
       "    </tr>    <tr> \n",
       "        <th id=\"T_3ebbe358_b7d2_11e8_a531_8c16457edbf6level0_row4\" class=\"row_heading level0 row4\" >4</th> \n",
       "        <td id=\"T_3ebbe358_b7d2_11e8_a531_8c16457edbf6row4_col0\" class=\"data row4 col0\" >25-29</td> \n",
       "        <td id=\"T_3ebbe358_b7d2_11e8_a531_8c16457edbf6row4_col1\" class=\"data row4 col1\" >13.37%</td> \n",
       "        <td id=\"T_3ebbe358_b7d2_11e8_a531_8c16457edbf6row4_col2\" class=\"data row4 col2\" >77</td> \n",
       "    </tr>    <tr> \n",
       "        <th id=\"T_3ebbe358_b7d2_11e8_a531_8c16457edbf6level0_row5\" class=\"row_heading level0 row5\" >5</th> \n",
       "        <td id=\"T_3ebbe358_b7d2_11e8_a531_8c16457edbf6row5_col0\" class=\"data row5 col0\" >30-34</td> \n",
       "        <td id=\"T_3ebbe358_b7d2_11e8_a531_8c16457edbf6row5_col1\" class=\"data row5 col1\" >9.03%</td> \n",
       "        <td id=\"T_3ebbe358_b7d2_11e8_a531_8c16457edbf6row5_col2\" class=\"data row5 col2\" >52</td> \n",
       "    </tr>    <tr> \n",
       "        <th id=\"T_3ebbe358_b7d2_11e8_a531_8c16457edbf6level0_row6\" class=\"row_heading level0 row6\" >6</th> \n",
       "        <td id=\"T_3ebbe358_b7d2_11e8_a531_8c16457edbf6row6_col0\" class=\"data row6 col0\" >35-39</td> \n",
       "        <td id=\"T_3ebbe358_b7d2_11e8_a531_8c16457edbf6row6_col1\" class=\"data row6 col1\" >5.38%</td> \n",
       "        <td id=\"T_3ebbe358_b7d2_11e8_a531_8c16457edbf6row6_col2\" class=\"data row6 col2\" >31</td> \n",
       "    </tr>    <tr> \n",
       "        <th id=\"T_3ebbe358_b7d2_11e8_a531_8c16457edbf6level0_row7\" class=\"row_heading level0 row7\" >7</th> \n",
       "        <td id=\"T_3ebbe358_b7d2_11e8_a531_8c16457edbf6row7_col0\" class=\"data row7 col0\" >40+</td> \n",
       "        <td id=\"T_3ebbe358_b7d2_11e8_a531_8c16457edbf6row7_col1\" class=\"data row7 col1\" >2.08%</td> \n",
       "        <td id=\"T_3ebbe358_b7d2_11e8_a531_8c16457edbf6row7_col2\" class=\"data row7 col2\" >12</td> \n",
       "    </tr></tbody> \n",
       "</table> "
      ],
      "text/plain": [
       "<pandas.io.formats.style.Styler at 0x1d13bce6358>"
      ]
     },
     "execution_count": 38,
     "metadata": {},
     "output_type": "execute_result"
    }
   ],
   "source": [
    "#Age Demographics Analysis\n",
    "nodups = purchase_data_pd.drop_duplicates(['SN'], keep='first')\n",
    "\n",
    "# Establish bins for ages\n",
    "age_bins = [0, 9.90, 14.90, 19.90, 24.90, 29.90, 34.90, 39.90, 99999]\n",
    "group_names = [\"<10\", \"10-14\", \"15-19\", \"20-24\", \"25-29\", \"30-34\", \"35-39\", \"40+\"]\n",
    "\n",
    "# Bin purchase data by Age\n",
    "pd.cut(nodups[\"Age\"], age_bins, labels=group_names)\n",
    "nodups[\"Age Group\"] = pd.cut(nodups[\"Age\"], age_bins, labels=group_names)\n",
    "nodups.head()\n",
    "\n",
    "grp_1 = nodups.loc[nodups[\"Age Group\"] == \"<10\", \"Age Group\"].count()\n",
    "grp_1_pct = (grp_1 / total_gender_count) * 100\n",
    "\n",
    "grp_2 = nodups.loc[nodups[\"Age Group\"] == \"10-14\", \"Age Group\"].count()\n",
    "grp_2_pct = (grp_2 / total_gender_count) * 100\n",
    "\n",
    "grp_3 = nodups.loc[nodups[\"Age Group\"] == \"15-19\", \"Age Group\"].count()\n",
    "grp_3_pct = (grp_3 / total_gender_count) * 100\n",
    "\n",
    "grp_4 = nodups.loc[nodups[\"Age Group\"] == \"20-24\", \"Age Group\"].count()\n",
    "grp_4_pct = (grp_4 / total_gender_count) * 100\n",
    "\n",
    "grp_5 = nodups.loc[nodups[\"Age Group\"] == \"25-29\", \"Age Group\"].count()\n",
    "grp_5_pct = (grp_5 / total_gender_count) * 100\n",
    "\n",
    "grp_6 = nodups.loc[nodups[\"Age Group\"] == \"30-34\", \"Age Group\"].count()\n",
    "grp_6_pct = (grp_6 / total_gender_count) * 100\n",
    "\n",
    "grp_7= nodups.loc[nodups[\"Age Group\"] == \"35-39\", \"Age Group\"].count()\n",
    "grp_7_pct = (grp_7 / total_gender_count) * 100\n",
    "\n",
    "\n",
    "grp_8 = nodups.loc[nodups[\"Age Group\"] == \"40+\", \"Age Group\"].count()\n",
    "grp_8_pct = (grp_8 / total_gender_count) * 100\n",
    "\n",
    "age_summary = pd.DataFrame({\"Age Group\": [\"<10\", \"10-14\", \"15-19\", \"20-24\", \"25-29\", \"30-34\", \"35-39\", \"40+\"],\n",
    "                                \"Percentage of Players\": [grp_1_pct, grp_2_pct, grp_3_pct, grp_4_pct,\n",
    "                                                          grp_5_pct, grp_6_pct, grp_7_pct, grp_8_pct ],\n",
    "                                \"Total Count\": [grp_1, grp_2, grp_3, grp_4, grp_5, grp_6, grp_7, grp_8]})\n",
    "#Formatting\n",
    "age_summary.style.format({\"Percentage of Players\": \"{:.2f}%\"})"
   ]
  },
  {
   "cell_type": "markdown",
   "metadata": {},
   "source": [
    "## Purchasing Analysis (Age)"
   ]
  },
  {
   "cell_type": "markdown",
   "metadata": {},
   "source": [
    "* Bin the purchase_data data frame by age\n",
    "\n",
    "\n",
    "* Run basic calculations to obtain purchase count, avg. purchase price, avg. purchase total per person etc. in the table below\n",
    "\n",
    "\n",
    "* Create a summary data frame to hold the results\n",
    "\n",
    "\n",
    "* Optional: give the displayed data cleaner formatting\n",
    "\n",
    "\n",
    "* Display the summary data frame"
   ]
  },
  {
   "cell_type": "code",
   "execution_count": 39,
   "metadata": {
    "scrolled": true
   },
   "outputs": [
    {
     "data": {
      "text/html": [
       "<style  type=\"text/css\" >\n",
       "</style>  \n",
       "<table id=\"T_5fb7104a_b7d2_11e8_829c_8c16457edbf6\" > \n",
       "<thead>    <tr> \n",
       "        <th class=\"blank level0\" ></th> \n",
       "        <th class=\"col_heading level0 col0\" >Age Group</th> \n",
       "        <th class=\"col_heading level0 col1\" >Purchase Count</th> \n",
       "        <th class=\"col_heading level0 col2\" >Average Purchase Total Per Person</th> \n",
       "        <th class=\"col_heading level0 col3\" >Total Purchase Value</th> \n",
       "    </tr></thead> \n",
       "<tbody>    <tr> \n",
       "        <th id=\"T_5fb7104a_b7d2_11e8_829c_8c16457edbf6level0_row0\" class=\"row_heading level0 row0\" >0</th> \n",
       "        <td id=\"T_5fb7104a_b7d2_11e8_829c_8c16457edbf6row0_col0\" class=\"data row0 col0\" ><10</td> \n",
       "        <td id=\"T_5fb7104a_b7d2_11e8_829c_8c16457edbf6row0_col1\" class=\"data row0 col1\" >23</td> \n",
       "        <td id=\"T_5fb7104a_b7d2_11e8_829c_8c16457edbf6row0_col2\" class=\"data row0 col2\" >$0.01</td> \n",
       "        <td id=\"T_5fb7104a_b7d2_11e8_829c_8c16457edbf6row0_col3\" class=\"data row0 col3\" >$0.22</td> \n",
       "    </tr>    <tr> \n",
       "        <th id=\"T_5fb7104a_b7d2_11e8_829c_8c16457edbf6level0_row1\" class=\"row_heading level0 row1\" >1</th> \n",
       "        <td id=\"T_5fb7104a_b7d2_11e8_829c_8c16457edbf6row1_col0\" class=\"data row1 col0\" >10-14</td> \n",
       "        <td id=\"T_5fb7104a_b7d2_11e8_829c_8c16457edbf6row1_col1\" class=\"data row1 col1\" >28</td> \n",
       "        <td id=\"T_5fb7104a_b7d2_11e8_829c_8c16457edbf6row1_col2\" class=\"data row1 col2\" >$0.01</td> \n",
       "        <td id=\"T_5fb7104a_b7d2_11e8_829c_8c16457edbf6row1_col3\" class=\"data row1 col3\" >$0.33</td> \n",
       "    </tr>    <tr> \n",
       "        <th id=\"T_5fb7104a_b7d2_11e8_829c_8c16457edbf6level0_row2\" class=\"row_heading level0 row2\" >2</th> \n",
       "        <td id=\"T_5fb7104a_b7d2_11e8_829c_8c16457edbf6row2_col0\" class=\"data row2 col0\" >15-19</td> \n",
       "        <td id=\"T_5fb7104a_b7d2_11e8_829c_8c16457edbf6row2_col1\" class=\"data row2 col1\" >136</td> \n",
       "        <td id=\"T_5fb7104a_b7d2_11e8_829c_8c16457edbf6row2_col2\" class=\"data row2 col2\" >$0.06</td> \n",
       "        <td id=\"T_5fb7104a_b7d2_11e8_829c_8c16457edbf6row2_col3\" class=\"data row2 col3\" >$7.77</td> \n",
       "    </tr>    <tr> \n",
       "        <th id=\"T_5fb7104a_b7d2_11e8_829c_8c16457edbf6level0_row3\" class=\"row_heading level0 row3\" >3</th> \n",
       "        <td id=\"T_5fb7104a_b7d2_11e8_829c_8c16457edbf6row3_col0\" class=\"data row3 col0\" >20-24</td> \n",
       "        <td id=\"T_5fb7104a_b7d2_11e8_829c_8c16457edbf6row3_col1\" class=\"data row3 col1\" >365</td> \n",
       "        <td id=\"T_5fb7104a_b7d2_11e8_829c_8c16457edbf6row3_col2\" class=\"data row3 col2\" >$0.15</td> \n",
       "        <td id=\"T_5fb7104a_b7d2_11e8_829c_8c16457edbf6row3_col3\" class=\"data row3 col3\" >$55.98</td> \n",
       "    </tr>    <tr> \n",
       "        <th id=\"T_5fb7104a_b7d2_11e8_829c_8c16457edbf6level0_row4\" class=\"row_heading level0 row4\" >4</th> \n",
       "        <td id=\"T_5fb7104a_b7d2_11e8_829c_8c16457edbf6row4_col0\" class=\"data row4 col0\" >25-29</td> \n",
       "        <td id=\"T_5fb7104a_b7d2_11e8_829c_8c16457edbf6row4_col1\" class=\"data row4 col1\" >101</td> \n",
       "        <td id=\"T_5fb7104a_b7d2_11e8_829c_8c16457edbf6row4_col2\" class=\"data row4 col2\" >$0.04</td> \n",
       "        <td id=\"T_5fb7104a_b7d2_11e8_829c_8c16457edbf6row4_col3\" class=\"data row4 col3\" >$4.29</td> \n",
       "    </tr>    <tr> \n",
       "        <th id=\"T_5fb7104a_b7d2_11e8_829c_8c16457edbf6level0_row5\" class=\"row_heading level0 row5\" >5</th> \n",
       "        <td id=\"T_5fb7104a_b7d2_11e8_829c_8c16457edbf6row5_col0\" class=\"data row5 col0\" >30-34</td> \n",
       "        <td id=\"T_5fb7104a_b7d2_11e8_829c_8c16457edbf6row5_col1\" class=\"data row5 col1\" >73</td> \n",
       "        <td id=\"T_5fb7104a_b7d2_11e8_829c_8c16457edbf6row5_col2\" class=\"data row5 col2\" >$0.03</td> \n",
       "        <td id=\"T_5fb7104a_b7d2_11e8_829c_8c16457edbf6row5_col3\" class=\"data row5 col3\" >$2.24</td> \n",
       "    </tr>    <tr> \n",
       "        <th id=\"T_5fb7104a_b7d2_11e8_829c_8c16457edbf6level0_row6\" class=\"row_heading level0 row6\" >6</th> \n",
       "        <td id=\"T_5fb7104a_b7d2_11e8_829c_8c16457edbf6row6_col0\" class=\"data row6 col0\" >35-39</td> \n",
       "        <td id=\"T_5fb7104a_b7d2_11e8_829c_8c16457edbf6row6_col1\" class=\"data row6 col1\" >41</td> \n",
       "        <td id=\"T_5fb7104a_b7d2_11e8_829c_8c16457edbf6row6_col2\" class=\"data row6 col2\" >$0.02</td> \n",
       "        <td id=\"T_5fb7104a_b7d2_11e8_829c_8c16457edbf6row6_col3\" class=\"data row6 col3\" >$0.71</td> \n",
       "    </tr>    <tr> \n",
       "        <th id=\"T_5fb7104a_b7d2_11e8_829c_8c16457edbf6level0_row7\" class=\"row_heading level0 row7\" >7</th> \n",
       "        <td id=\"T_5fb7104a_b7d2_11e8_829c_8c16457edbf6row7_col0\" class=\"data row7 col0\" >40+</td> \n",
       "        <td id=\"T_5fb7104a_b7d2_11e8_829c_8c16457edbf6row7_col1\" class=\"data row7 col1\" >13</td> \n",
       "        <td id=\"T_5fb7104a_b7d2_11e8_829c_8c16457edbf6row7_col2\" class=\"data row7 col2\" >$0.01</td> \n",
       "        <td id=\"T_5fb7104a_b7d2_11e8_829c_8c16457edbf6row7_col3\" class=\"data row7 col3\" >$0.07</td> \n",
       "    </tr></tbody> \n",
       "</table> "
      ],
      "text/plain": [
       "<pandas.io.formats.style.Styler at 0x1d13bd41198>"
      ]
     },
     "execution_count": 39,
     "metadata": {},
     "output_type": "execute_result"
    }
   ],
   "source": [
    "#Purchasing Analysis\n",
    "\n",
    "# Establish bins for ages\n",
    "age_bins = [0, 9.90, 14.90, 19.90, 24.90, 29.90, 34.90, 39.90, 99999]\n",
    "group_names = [\"<10\", \"10-14\", \"15-19\", \"20-24\", \"25-29\", \"30-34\", \"35-39\", \"40+\"]\n",
    "\n",
    "\n",
    "#pur_by_age_df = pd.Dataframe({\"Age\":[\"<10\", \"10-14\", \"15-19\", \"20-24\", \"25-29\"\n",
    "                                     #, \"30-34\", \"35-39\", \"40+\"] })\n",
    "#pur_by_age_df\n",
    "\n",
    "#Purchase Count\"\n",
    "# Bin purchase data by Age\n",
    "pd.cut(purchase_data_pd[\"Age\"], age_bins, labels=group_names)\n",
    "purchase_data_pd[\"Age Group\"] = pd.cut(purchase_data_pd[\"Age\"], age_bins, labels=group_names)\n",
    "purchase_data_pd.head()\n",
    "\n",
    "grp_1 = purchase_data_pd.loc[purchase_data_pd[\"Age Group\"] == \"<10\", \"Age Group\"].count()\n",
    "grp_1_avg_pur = grp_1 / total_revenue\n",
    "grp_1_tp = (grp_1_avg_pur * grp_1).sum()\n",
    "grp_1_pct = grp_1_avg_pur.sum()\n",
    "\n",
    "grp_2 = purchase_data_pd.loc[purchase_data_pd[\"Age Group\"] == \"10-14\", \"Age Group\"].count()\n",
    "grp_2_avg_pur = grp_2 / total_revenue\n",
    "grp_2_tp = (grp_2_avg_pur * grp_2).sum()\n",
    "grp_2_pct = grp_2_avg_pur.sum()\n",
    "\n",
    "grp_3 = purchase_data_pd.loc[purchase_data_pd[\"Age Group\"] == \"15-19\", \"Age Group\"].count()\n",
    "grp_3_avg_pur = grp_3 / total_revenue\n",
    "grp_3_tp = (grp_3_avg_pur * grp_3).sum()\n",
    "grp_3_pct = grp_3_avg_pur.sum()\n",
    "\n",
    "grp_4 = purchase_data_pd.loc[purchase_data_pd[\"Age Group\"] == \"20-24\", \"Age Group\"].count()\n",
    "grp_4_avg_pur = grp_4 / total_revenue\n",
    "grp_4_tp = (grp_4_avg_pur * grp_4).sum()\n",
    "grp_4_pct = grp_4_avg_pur.sum()\n",
    "\n",
    "grp_5 = purchase_data_pd.loc[purchase_data_pd[\"Age Group\"] == \"25-29\", \"Age Group\"].count()\n",
    "grp_5_avg_pur = grp_5 / total_revenue\n",
    "grp_5_tp = (grp_5_avg_pur * grp_5).sum()\n",
    "grp_5_pct = grp_5_avg_pur.sum()\n",
    "\n",
    "grp_6 = purchase_data_pd.loc[purchase_data_pd[\"Age Group\"] == \"30-34\", \"Age Group\"].count()\n",
    "grp_6_avg_pur = grp_6 / total_revenue\n",
    "grp_6_tp = (grp_6_avg_pur * grp_6).sum()\n",
    "grp_6_pct = grp_6_avg_pur.sum()\n",
    "\n",
    "grp_7= purchase_data_pd.loc[purchase_data_pd[\"Age Group\"] == \"35-39\", \"Age Group\"].count()\n",
    "grp_7_avg_pur =   grp_7 / total_revenue\n",
    "grp_7_tp = (grp_7_avg_pur * grp_7).sum()\n",
    "grp_7_pct = grp_7_avg_pur.sum()\n",
    "\n",
    "\n",
    "grp_8 = purchase_data_pd.loc[purchase_data_pd[\"Age Group\"] == \"40+\", \"Age Group\"].count()\n",
    "grp_8_avg_pur = grp_8 / total_revenue\n",
    "grp_8_tp = (grp_8_avg_pur * grp_8).sum()\n",
    "grp_8_pct = grp_8_avg_pur.sum()\n",
    "\n",
    "age_analysis = pd.DataFrame({\"Age Group\": [\"<10\", \"10-14\", \"15-19\", \"20-24\", \"25-29\", \"30-34\", \"35-39\", \"40+\"],\n",
    "                                \"Purchase Count\": [grp_1, grp_2, grp_3, grp_4, grp_5, grp_6, grp_7, grp_8 ],\n",
    "                           \"Average Purchase Total Per Person\": [grp_1_pct, grp_2_pct, grp_3_pct, grp_4_pct, \n",
    "                                                                 grp_5_pct, grp_6_pct, grp_7_pct, grp_8_pct],\n",
    "                            \"Total Purchase Value\": [grp_1_tp, grp_2_tp, grp_3_tp, grp_4_tp, grp_5_tp,\n",
    "                                                         grp_6_tp, grp_7_tp, grp_8_tp],})\n",
    "#Formatting\n",
    "age_analysis.style.format({\"Total Purchase Value\": \"${:.2f}\", \"Average Purchase Total Per Person\": \"${:.2f}\"})\n"
   ]
  },
  {
   "cell_type": "markdown",
   "metadata": {},
   "source": [
    "# Top Spenders"
   ]
  },
  {
   "cell_type": "markdown",
   "metadata": {},
   "source": [
    "* Run basic calculations to obtain the results in the table below\n",
    "\n",
    "\n",
    "* Create a summary data frame to hold the results\n",
    "\n",
    "\n",
    "* Sort the total purchase value column in descending order\n",
    "\n",
    "\n",
    "* Optional: give the displayed data cleaner formatting\n",
    "\n",
    "\n",
    "* Display a preview of the summary data frame\n",
    "\n"
   ]
  },
  {
   "cell_type": "code",
   "execution_count": 49,
   "metadata": {},
   "outputs": [
    {
     "data": {
      "text/html": [
       "<style  type=\"text/css\" >\n",
       "</style>  \n",
       "<table id=\"T_23a1e71c_b7d3_11e8_85ee_8c16457edbf6\" > \n",
       "<thead>    <tr> \n",
       "        <th class=\"blank level0\" ></th> \n",
       "        <th class=\"col_heading level0 col0\" >Purchase Count</th> \n",
       "        <th class=\"col_heading level0 col1\" >Average Purchase Price</th> \n",
       "        <th class=\"col_heading level0 col2\" >Total Purchase Value</th> \n",
       "    </tr>    <tr> \n",
       "        <th class=\"index_name level0\" >SN</th> \n",
       "        <th class=\"blank\" ></th> \n",
       "        <th class=\"blank\" ></th> \n",
       "        <th class=\"blank\" ></th> \n",
       "    </tr></thead> \n",
       "<tbody>    <tr> \n",
       "        <th id=\"T_23a1e71c_b7d3_11e8_85ee_8c16457edbf6level0_row0\" class=\"row_heading level0 row0\" >Lisosia93</th> \n",
       "        <td id=\"T_23a1e71c_b7d3_11e8_85ee_8c16457edbf6row0_col0\" class=\"data row0 col0\" >5</td> \n",
       "        <td id=\"T_23a1e71c_b7d3_11e8_85ee_8c16457edbf6row0_col1\" class=\"data row0 col1\" >$3.79</td> \n",
       "        <td id=\"T_23a1e71c_b7d3_11e8_85ee_8c16457edbf6row0_col2\" class=\"data row0 col2\" >$18.96</td> \n",
       "    </tr>    <tr> \n",
       "        <th id=\"T_23a1e71c_b7d3_11e8_85ee_8c16457edbf6level0_row1\" class=\"row_heading level0 row1\" >Idastidru52</th> \n",
       "        <td id=\"T_23a1e71c_b7d3_11e8_85ee_8c16457edbf6row1_col0\" class=\"data row1 col0\" >4</td> \n",
       "        <td id=\"T_23a1e71c_b7d3_11e8_85ee_8c16457edbf6row1_col1\" class=\"data row1 col1\" >$3.86</td> \n",
       "        <td id=\"T_23a1e71c_b7d3_11e8_85ee_8c16457edbf6row1_col2\" class=\"data row1 col2\" >$15.45</td> \n",
       "    </tr>    <tr> \n",
       "        <th id=\"T_23a1e71c_b7d3_11e8_85ee_8c16457edbf6level0_row2\" class=\"row_heading level0 row2\" >Chamjask73</th> \n",
       "        <td id=\"T_23a1e71c_b7d3_11e8_85ee_8c16457edbf6row2_col0\" class=\"data row2 col0\" >3</td> \n",
       "        <td id=\"T_23a1e71c_b7d3_11e8_85ee_8c16457edbf6row2_col1\" class=\"data row2 col1\" >$4.61</td> \n",
       "        <td id=\"T_23a1e71c_b7d3_11e8_85ee_8c16457edbf6row2_col2\" class=\"data row2 col2\" >$13.83</td> \n",
       "    </tr>    <tr> \n",
       "        <th id=\"T_23a1e71c_b7d3_11e8_85ee_8c16457edbf6level0_row3\" class=\"row_heading level0 row3\" >Iral74</th> \n",
       "        <td id=\"T_23a1e71c_b7d3_11e8_85ee_8c16457edbf6row3_col0\" class=\"data row3 col0\" >4</td> \n",
       "        <td id=\"T_23a1e71c_b7d3_11e8_85ee_8c16457edbf6row3_col1\" class=\"data row3 col1\" >$3.40</td> \n",
       "        <td id=\"T_23a1e71c_b7d3_11e8_85ee_8c16457edbf6row3_col2\" class=\"data row3 col2\" >$13.62</td> \n",
       "    </tr>    <tr> \n",
       "        <th id=\"T_23a1e71c_b7d3_11e8_85ee_8c16457edbf6level0_row4\" class=\"row_heading level0 row4\" >Iskadarya95</th> \n",
       "        <td id=\"T_23a1e71c_b7d3_11e8_85ee_8c16457edbf6row4_col0\" class=\"data row4 col0\" >3</td> \n",
       "        <td id=\"T_23a1e71c_b7d3_11e8_85ee_8c16457edbf6row4_col1\" class=\"data row4 col1\" >$4.37</td> \n",
       "        <td id=\"T_23a1e71c_b7d3_11e8_85ee_8c16457edbf6row4_col2\" class=\"data row4 col2\" >$13.10</td> \n",
       "    </tr></tbody> \n",
       "</table> "
      ],
      "text/plain": [
       "<pandas.io.formats.style.Styler at 0x1d13bcc9550>"
      ]
     },
     "execution_count": 49,
     "metadata": {},
     "output_type": "execute_result"
    }
   ],
   "source": [
    "# Top Spenders Analysis\n",
    "top_spend = purchase_data_pd[[\"SN\",\"Price\",\"Item Name\"]]\n",
    "total_spent = top_spend.groupby(\"SN\").sum()\n",
    "total_spent.sort_values(\"Price\", ascending = False, inplace = True)\n",
    "\n",
    "# Top Spender SN\n",
    "names = list(total_spent.index.values)\n",
    "top_names = [names[0],names[1],names[2],names[3],names[4]]\n",
    "\n",
    "# Total Purchase Values\n",
    "total_purchase_values_1 = total_spent.iloc[0,0]\n",
    "total_purchase_values_2 = total_spent.iloc[1,0]\n",
    "total_purchase_values_3 = total_spent.iloc[2,0]\n",
    "total_purchase_values_4 = total_spent.iloc[3,0]\n",
    "total_purchase_values_5 = total_spent.iloc[4,0]\n",
    "top_purchase_values = [total_spent.iloc[0,0], total_spent.iloc[1,0], total_spent.iloc[2,0], total_spent.iloc[3,0],\n",
    "                      total_spent.iloc[4,0]]\n",
    "\n",
    "# Purchase Counts\n",
    "top_purchase_counts_1 = top_spend[top_spend[\"SN\"] == names[0]].count()[0]\n",
    "top_purchase_counts_2 = top_spend[top_spend[\"SN\"] == names[1]].count()[0]\n",
    "top_purchase_counts_3 = top_spend[top_spend[\"SN\"] == names[2]].count()[0]\n",
    "top_purchase_counts_4 = top_spend[top_spend[\"SN\"] == names[3]].count()[0]\n",
    "top_purchase_counts_5 = top_spend[top_spend[\"SN\"] == names[4]].count()[0]\n",
    "top_purchase_counts = [top_purchase_counts_1, top_purchase_counts_2, top_purchase_counts_3, top_purchase_counts_4,\n",
    "                       top_purchase_counts_5]\n",
    "\n",
    "# Average Purchas Prices\n",
    "avg_price_1 = total_purchase_values_1/top_purchase_counts_1\n",
    "avg_price_2 = total_purchase_values_2/top_purchase_counts_2\n",
    "avg_price_3 = total_purchase_values_3/top_purchase_counts_3\n",
    "avg_price_4 = total_purchase_values_4/top_purchase_counts_4\n",
    "avg_price_5 = total_purchase_values_5/top_purchase_counts_5\n",
    "avg_prices = [avg_price_1, avg_price_2, avg_price_3, avg_price_4, avg_price_5]\n",
    "\n",
    "# Dictionary of values\n",
    "top_spenders_dict = {\n",
    "    \"Purchase Count\": top_purchase_counts,\n",
    "    \"Average Purchase Price\": avg_prices,\n",
    "    \"Total Purchase Value\": top_purchase_values,\n",
    "    \"SN\": top_names\n",
    "}\n",
    "\n",
    "# Creating DataFrame & setting index\n",
    "top_spenders_df = pd.DataFrame(top_spenders_dict)\n",
    "top_spenders_df = top_spenders_df.set_index(\"SN\")\n",
    "top_spenders_df = top_spenders_df[[\"Purchase Count\", \"Average Purchase Price\", \"Total Purchase Value\"]]\n",
    "\n",
    "# Formatting\n",
    "top_spenders_df.style.format({\"Average Purchase Price\": \"${:.2f}\", \"Total Purchase Value\": \"${:.2f}\"})"
   ]
  },
  {
   "cell_type": "markdown",
   "metadata": {},
   "source": [
    "## Most Popular Items"
   ]
  },
  {
   "cell_type": "markdown",
   "metadata": {},
   "source": [
    "* Retrieve the Item ID, Item Name, and Item Price columns\n",
    "\n",
    "\n",
    "* Group by Item ID and Item Name. Perform calculations to obtain purchase count, item price, and total purchase value\n",
    "\n",
    "\n",
    "* Create a summary data frame to hold the results\n",
    "\n",
    "\n",
    "* Sort the purchase count column in descending order\n",
    "\n",
    "\n",
    "* Optional: give the displayed data cleaner formatting\n",
    "\n",
    "\n",
    "* Display a preview of the summary data frame\n",
    "\n"
   ]
  },
  {
   "cell_type": "code",
   "execution_count": 45,
   "metadata": {},
   "outputs": [
    {
     "data": {
      "text/html": [
       "<style  type=\"text/css\" >\n",
       "</style>  \n",
       "<table id=\"T_e195402e_b7d2_11e8_a51a_8c16457edbf6\" > \n",
       "<thead>    <tr> \n",
       "        <th class=\"blank\" ></th> \n",
       "        <th class=\"blank level0\" ></th> \n",
       "        <th class=\"col_heading level0 col0\" >Purchase Count</th> \n",
       "        <th class=\"col_heading level0 col1\" >Item Price</th> \n",
       "        <th class=\"col_heading level0 col2\" >Total Purchase Value</th> \n",
       "    </tr>    <tr> \n",
       "        <th class=\"index_name level0\" >Item ID</th> \n",
       "        <th class=\"index_name level1\" >Item Name</th> \n",
       "        <th class=\"blank\" ></th> \n",
       "        <th class=\"blank\" ></th> \n",
       "        <th class=\"blank\" ></th> \n",
       "    </tr></thead> \n",
       "<tbody>    <tr> \n",
       "        <th id=\"T_e195402e_b7d2_11e8_a51a_8c16457edbf6level0_row0\" class=\"row_heading level0 row0\" >178</th> \n",
       "        <th id=\"T_e195402e_b7d2_11e8_a51a_8c16457edbf6level1_row0\" class=\"row_heading level1 row0\" >Oathbreaker, Last Hope of the Breaking Storm</th> \n",
       "        <td id=\"T_e195402e_b7d2_11e8_a51a_8c16457edbf6row0_col0\" class=\"data row0 col0\" >12</td> \n",
       "        <td id=\"T_e195402e_b7d2_11e8_a51a_8c16457edbf6row0_col1\" class=\"data row0 col1\" >$4.23</td> \n",
       "        <td id=\"T_e195402e_b7d2_11e8_a51a_8c16457edbf6row0_col2\" class=\"data row0 col2\" >$50.76</td> \n",
       "    </tr>    <tr> \n",
       "        <th id=\"T_e195402e_b7d2_11e8_a51a_8c16457edbf6level0_row1\" class=\"row_heading level0 row1\" >145</th> \n",
       "        <th id=\"T_e195402e_b7d2_11e8_a51a_8c16457edbf6level1_row1\" class=\"row_heading level1 row1\" >Fiery Glass Crusader</th> \n",
       "        <td id=\"T_e195402e_b7d2_11e8_a51a_8c16457edbf6row1_col0\" class=\"data row1 col0\" >9</td> \n",
       "        <td id=\"T_e195402e_b7d2_11e8_a51a_8c16457edbf6row1_col1\" class=\"data row1 col1\" >$4.58</td> \n",
       "        <td id=\"T_e195402e_b7d2_11e8_a51a_8c16457edbf6row1_col2\" class=\"data row1 col2\" >$41.22</td> \n",
       "    </tr>    <tr> \n",
       "        <th id=\"T_e195402e_b7d2_11e8_a51a_8c16457edbf6level0_row2\" class=\"row_heading level0 row2\" >108</th> \n",
       "        <th id=\"T_e195402e_b7d2_11e8_a51a_8c16457edbf6level1_row2\" class=\"row_heading level1 row2\" >Extraction, Quickblade Of Trembling Hands</th> \n",
       "        <td id=\"T_e195402e_b7d2_11e8_a51a_8c16457edbf6row2_col0\" class=\"data row2 col0\" >9</td> \n",
       "        <td id=\"T_e195402e_b7d2_11e8_a51a_8c16457edbf6row2_col1\" class=\"data row2 col1\" >$3.53</td> \n",
       "        <td id=\"T_e195402e_b7d2_11e8_a51a_8c16457edbf6row2_col2\" class=\"data row2 col2\" >$31.77</td> \n",
       "    </tr>    <tr> \n",
       "        <th id=\"T_e195402e_b7d2_11e8_a51a_8c16457edbf6level0_row3\" class=\"row_heading level0 row3\" >82</th> \n",
       "        <th id=\"T_e195402e_b7d2_11e8_a51a_8c16457edbf6level1_row3\" class=\"row_heading level1 row3\" >Nirvana</th> \n",
       "        <td id=\"T_e195402e_b7d2_11e8_a51a_8c16457edbf6row3_col0\" class=\"data row3 col0\" >9</td> \n",
       "        <td id=\"T_e195402e_b7d2_11e8_a51a_8c16457edbf6row3_col1\" class=\"data row3 col1\" >$4.90</td> \n",
       "        <td id=\"T_e195402e_b7d2_11e8_a51a_8c16457edbf6row3_col2\" class=\"data row3 col2\" >$44.10</td> \n",
       "    </tr>    <tr> \n",
       "        <th id=\"T_e195402e_b7d2_11e8_a51a_8c16457edbf6level0_row4\" class=\"row_heading level0 row4\" >19</th> \n",
       "        <th id=\"T_e195402e_b7d2_11e8_a51a_8c16457edbf6level1_row4\" class=\"row_heading level1 row4\" >Pursuit, Cudgel of Necromancy</th> \n",
       "        <td id=\"T_e195402e_b7d2_11e8_a51a_8c16457edbf6row4_col0\" class=\"data row4 col0\" >8</td> \n",
       "        <td id=\"T_e195402e_b7d2_11e8_a51a_8c16457edbf6row4_col1\" class=\"data row4 col1\" >$1.02</td> \n",
       "        <td id=\"T_e195402e_b7d2_11e8_a51a_8c16457edbf6row4_col2\" class=\"data row4 col2\" >$8.16</td> \n",
       "    </tr></tbody> \n",
       "</table> "
      ],
      "text/plain": [
       "<pandas.io.formats.style.Styler at 0x1d13bc76fd0>"
      ]
     },
     "execution_count": 45,
     "metadata": {},
     "output_type": "execute_result"
    }
   ],
   "source": [
    "# Popular Items Analysis\n",
    "#Most popular items sort and retrieve columns\n",
    "most_pop = purchase_data_pd[[\"Item ID\", \"Item Name\", \"Price\"]]\n",
    "pop_items = most_pop.groupby(\"Item ID\").count()\n",
    "pop_items.sort_values(\"Item Name\", ascending =False, inplace = True)\n",
    "most_pop = most_pop.drop_duplicates([\"Item ID\", \"Item Name\"])\n",
    "\n",
    "# Item IDs\n",
    "item_ids = [pop_items.index[0], pop_items.index[1], pop_items.index[2], pop_items.index[3], pop_items.index[4]]\n",
    "\n",
    "# Item Names\n",
    "name_1 = most_pop.loc[most_pop[\"Item ID\"] == item_ids[0], \"Item Name\"].item()\n",
    "name_2 = most_pop.loc[most_pop[\"Item ID\"] == item_ids[1], \"Item Name\"].item()\n",
    "name_3 = most_pop.loc[most_pop[\"Item ID\"] == item_ids[2], \"Item Name\"].item()\n",
    "name_4 = most_pop.loc[most_pop[\"Item ID\"] == item_ids[3], \"Item Name\"].item()\n",
    "name_5 = most_pop.loc[most_pop[\"Item ID\"] == item_ids[4], \"Item Name\"].item()\n",
    "pop_item_names = [name_1, name_2, name_3, name_4, name_5]\n",
    "\n",
    "# Purchase Counts\n",
    "item_counts = [pop_items.iloc[0,0], pop_items.iloc[1,0], pop_items.iloc[2,0], pop_items.iloc[3,0], pop_items.iloc[4,0]]\n",
    "\n",
    "# Item Prices\n",
    "price_1 = most_pop.loc[most_pop[\"Item Name\"] == pop_item_names[0], \"Price\"].item()\n",
    "price_2 = most_pop.loc[most_pop[\"Item Name\"] == pop_item_names[1], \"Price\"].item()\n",
    "price_3 = most_pop.loc[most_pop[\"Item Name\"] == pop_item_names[2], \"Price\"].item()\n",
    "price_4 = most_pop.loc[most_pop[\"Item Name\"] == pop_item_names[3], \"Price\"].item()\n",
    "price_5 = most_pop.loc[most_pop[\"Item Name\"] == pop_item_names[4], \"Price\"].item()\n",
    "item_prices = [price_1,price_2,price_3,price_4,price_5]\n",
    "\n",
    "# Total Purchase Value\n",
    "total_values = [pop_items.iloc[0,0]*price_1, pop_items.iloc[1,0]*price_2, pop_items.iloc[2,0]*price_3, \n",
    "                pop_items.iloc[3,0]*price_4, pop_items.iloc[4,0]*price_5]\n",
    "\n",
    "# Creating DataFrame & setting index\n",
    "pop_items_df = pd.DataFrame({\n",
    "    \"Item ID\": item_ids,\n",
    "    \"Item Name\": pop_item_names,\n",
    "    \"Purchase Count\": item_counts,\n",
    "    \"Item Price\": item_prices,\n",
    "    \"Total Purchase Value\": total_values\n",
    "})\n",
    "pop_items_df = pop_items_df.set_index([\"Item ID\", \"Item Name\"])\n",
    "pop_items_df = pop_items_df[[\"Purchase Count\", \"Item Price\", \"Total Purchase Value\"]]\n",
    "\n",
    "# Formatting\n",
    "pop_items_df.style.format({\"Item Price\": \"${:.2f}\", \"Total Purchase Value\": \"${:.2f}\"})\n"
   ]
  },
  {
   "cell_type": "markdown",
   "metadata": {},
   "source": [
    "## Most Profitable Items"
   ]
  },
  {
   "cell_type": "markdown",
   "metadata": {},
   "source": [
    "* Sort the above table by total purchase value in descending order\n",
    "\n",
    "\n",
    "* Optional: give the displayed data cleaner formatting\n",
    "\n",
    "\n",
    "* Display a preview of the data frame\n",
    "\n"
   ]
  },
  {
   "cell_type": "code",
   "execution_count": 46,
   "metadata": {
    "scrolled": true
   },
   "outputs": [
    {
     "data": {
      "text/html": [
       "<style  type=\"text/css\" >\n",
       "</style>  \n",
       "<table id=\"T_e441b376_b7d2_11e8_b8e0_8c16457edbf6\" > \n",
       "<thead>    <tr> \n",
       "        <th class=\"blank\" ></th> \n",
       "        <th class=\"blank level0\" ></th> \n",
       "        <th class=\"col_heading level0 col0\" >Purchase Count</th> \n",
       "        <th class=\"col_heading level0 col1\" >Item Price</th> \n",
       "        <th class=\"col_heading level0 col2\" >Total Purchase Value</th> \n",
       "    </tr>    <tr> \n",
       "        <th class=\"index_name level0\" >Item ID</th> \n",
       "        <th class=\"index_name level1\" >Item Name</th> \n",
       "        <th class=\"blank\" ></th> \n",
       "        <th class=\"blank\" ></th> \n",
       "        <th class=\"blank\" ></th> \n",
       "    </tr></thead> \n",
       "<tbody>    <tr> \n",
       "        <th id=\"T_e441b376_b7d2_11e8_b8e0_8c16457edbf6level0_row0\" class=\"row_heading level0 row0\" >178</th> \n",
       "        <th id=\"T_e441b376_b7d2_11e8_b8e0_8c16457edbf6level1_row0\" class=\"row_heading level1 row0\" >Oathbreaker, Last Hope of the Breaking Storm</th> \n",
       "        <td id=\"T_e441b376_b7d2_11e8_b8e0_8c16457edbf6row0_col0\" class=\"data row0 col0\" >12</td> \n",
       "        <td id=\"T_e441b376_b7d2_11e8_b8e0_8c16457edbf6row0_col1\" class=\"data row0 col1\" >$4.23</td> \n",
       "        <td id=\"T_e441b376_b7d2_11e8_b8e0_8c16457edbf6row0_col2\" class=\"data row0 col2\" >$50.76</td> \n",
       "    </tr>    <tr> \n",
       "        <th id=\"T_e441b376_b7d2_11e8_b8e0_8c16457edbf6level0_row1\" class=\"row_heading level0 row1\" >82</th> \n",
       "        <th id=\"T_e441b376_b7d2_11e8_b8e0_8c16457edbf6level1_row1\" class=\"row_heading level1 row1\" >Nirvana</th> \n",
       "        <td id=\"T_e441b376_b7d2_11e8_b8e0_8c16457edbf6row1_col0\" class=\"data row1 col0\" >9</td> \n",
       "        <td id=\"T_e441b376_b7d2_11e8_b8e0_8c16457edbf6row1_col1\" class=\"data row1 col1\" >$4.90</td> \n",
       "        <td id=\"T_e441b376_b7d2_11e8_b8e0_8c16457edbf6row1_col2\" class=\"data row1 col2\" >$44.10</td> \n",
       "    </tr>    <tr> \n",
       "        <th id=\"T_e441b376_b7d2_11e8_b8e0_8c16457edbf6level0_row2\" class=\"row_heading level0 row2\" >145</th> \n",
       "        <th id=\"T_e441b376_b7d2_11e8_b8e0_8c16457edbf6level1_row2\" class=\"row_heading level1 row2\" >Fiery Glass Crusader</th> \n",
       "        <td id=\"T_e441b376_b7d2_11e8_b8e0_8c16457edbf6row2_col0\" class=\"data row2 col0\" >9</td> \n",
       "        <td id=\"T_e441b376_b7d2_11e8_b8e0_8c16457edbf6row2_col1\" class=\"data row2 col1\" >$4.58</td> \n",
       "        <td id=\"T_e441b376_b7d2_11e8_b8e0_8c16457edbf6row2_col2\" class=\"data row2 col2\" >$41.22</td> \n",
       "    </tr>    <tr> \n",
       "        <th id=\"T_e441b376_b7d2_11e8_b8e0_8c16457edbf6level0_row3\" class=\"row_heading level0 row3\" >108</th> \n",
       "        <th id=\"T_e441b376_b7d2_11e8_b8e0_8c16457edbf6level1_row3\" class=\"row_heading level1 row3\" >Extraction, Quickblade Of Trembling Hands</th> \n",
       "        <td id=\"T_e441b376_b7d2_11e8_b8e0_8c16457edbf6row3_col0\" class=\"data row3 col0\" >9</td> \n",
       "        <td id=\"T_e441b376_b7d2_11e8_b8e0_8c16457edbf6row3_col1\" class=\"data row3 col1\" >$3.53</td> \n",
       "        <td id=\"T_e441b376_b7d2_11e8_b8e0_8c16457edbf6row3_col2\" class=\"data row3 col2\" >$31.77</td> \n",
       "    </tr>    <tr> \n",
       "        <th id=\"T_e441b376_b7d2_11e8_b8e0_8c16457edbf6level0_row4\" class=\"row_heading level0 row4\" >19</th> \n",
       "        <th id=\"T_e441b376_b7d2_11e8_b8e0_8c16457edbf6level1_row4\" class=\"row_heading level1 row4\" >Pursuit, Cudgel of Necromancy</th> \n",
       "        <td id=\"T_e441b376_b7d2_11e8_b8e0_8c16457edbf6row4_col0\" class=\"data row4 col0\" >8</td> \n",
       "        <td id=\"T_e441b376_b7d2_11e8_b8e0_8c16457edbf6row4_col1\" class=\"data row4 col1\" >$1.02</td> \n",
       "        <td id=\"T_e441b376_b7d2_11e8_b8e0_8c16457edbf6row4_col2\" class=\"data row4 col2\" >$8.16</td> \n",
       "    </tr></tbody> \n",
       "</table> "
      ],
      "text/plain": [
       "<pandas.io.formats.style.Styler at 0x1d13baaa550>"
      ]
     },
     "execution_count": 46,
     "metadata": {},
     "output_type": "execute_result"
    }
   ],
   "source": [
    "# Sort from highest to lowest\n",
    "profit_df = pop_items_df.sort_values(\"Total Purchase Value\", ascending=False)\n",
    "profit_df.head()\n",
    "\n",
    "profit_df.style.format({\"Item Price\": \"${:.2f}\", \"Total Purchase Value\": \"${:,.2f}\"})"
   ]
  }
 ],
 "metadata": {
  "anaconda-cloud": {},
  "kernel_info": {
   "name": "python3"
  },
  "kernelspec": {
   "display_name": "Python [conda env:PythonData]",
   "language": "python",
   "name": "conda-env-PythonData-py"
  },
  "language_info": {
   "codemirror_mode": {
    "name": "ipython",
    "version": 3
   },
   "file_extension": ".py",
   "mimetype": "text/x-python",
   "name": "python",
   "nbconvert_exporter": "python",
   "pygments_lexer": "ipython3",
   "version": "3.6.5"
  },
  "nteract": {
   "version": "0.8.4"
  }
 },
 "nbformat": 4,
 "nbformat_minor": 1
}
